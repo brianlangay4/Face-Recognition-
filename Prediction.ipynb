{
 "cells": [
  {
   "cell_type": "code",
   "execution_count": 1,
   "id": "cd53c296-accb-482b-9433-29bbbd0a3af3",
   "metadata": {
    "tags": []
   },
   "outputs": [
    {
     "name": "stdout",
     "output_type": "stream",
     "text": [
      "not messi\n"
     ]
    }
   ],
   "source": [
    "import face_recognition\n",
    "\n",
    "image_Of_messi = face_recognition.load_image_file('images/famous/messi.jpg')\n",
    "messi_face_encoding = face_recognition.face_encodings(image_Of_messi)[0]\n",
    "\n",
    "image_Of_fmessi = face_recognition.load_image_file('images/others/fmessi.jpg')\n",
    "fmessi_face_encoding = face_recognition.face_encodings(image_Of_fmessi)[0]\n",
    "\n",
    "#compare faces\n",
    "results = face_recognition.compare_faces([messi_face_encoding], fmessi_face_encoding, tolerance=0.5)\n",
    "\n",
    "if results[0]:\n",
    "    print('this is messi')\n",
    "else:\n",
    "    print('not messi')"
   ]
  },
  {
   "cell_type": "code",
   "execution_count": null,
   "id": "a256ae63-be5d-4e72-b4c2-f33f468c586a",
   "metadata": {},
   "outputs": [],
   "source": []
  }
 ],
 "metadata": {
  "kernelspec": {
   "display_name": "Python 3 (ipykernel)",
   "language": "python",
   "name": "python3"
  },
  "language_info": {
   "codemirror_mode": {
    "name": "ipython",
    "version": 3
   },
   "file_extension": ".py",
   "mimetype": "text/x-python",
   "name": "python",
   "nbconvert_exporter": "python",
   "pygments_lexer": "ipython3",
   "version": "3.8.13"
  }
 },
 "nbformat": 4,
 "nbformat_minor": 5
}
